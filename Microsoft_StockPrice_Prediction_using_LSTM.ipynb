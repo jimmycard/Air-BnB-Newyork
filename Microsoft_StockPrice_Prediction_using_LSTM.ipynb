{
  "cells": [
    {
      "cell_type": "markdown",
      "metadata": {
        "id": "view-in-github",
        "colab_type": "text"
      },
      "source": [
        "<a href=\"https://colab.research.google.com/github/jimmycard/Air-BnB-Newyork/blob/main/Microsoft_StockPrice_Prediction_using_LSTM.ipynb\" target=\"_parent\"><img src=\"https://colab.research.google.com/assets/colab-badge.svg\" alt=\"Open In Colab\"/></a>"
      ]
    },
    {
      "cell_type": "markdown",
      "source": [
        "# Microsoft Stock Price prediction using the LSTM(Long short-term memory) neural network.\n",
        "\n",
        "In this project, we employed the LSTM neural network to predict Microsoft stock prices. LSTM, which stands for long short-term memory, is an advanced variant of the traditional recurrent neural network (RNN).\n",
        "\n",
        "LSTM models are particularly adept at learning long-term dependencies in sequence prediction problems. They excel in recognizing patterns within data sequences, such as sensor data, stock prices, or natural language, by incorporating both the actual value and its position in the sequence during prediction.\n",
        "\n",
        "What sets LSTM models apart is their unique architecture, enabling them to determine whether to retain or discard previous information in short-term memory. This capability allows them to effectively capture even longer dependencies within sequences.\n",
        "\n",
        "By leveraging the power of LSTM networks, we aimed to predict Microsoft stock prices by uncovering patterns and dependencies in the historical data. This approach enables us to make informed forecasts and gain insights into potential future price movements.\n"
      ],
      "metadata": {
        "id": "-zp_1syAzvQv"
      },
      "id": "-zp_1syAzvQv"
    },
    {
      "cell_type": "markdown",
      "source": [
        "# Dataset\n",
        "\n",
        "This project focuses on the exploration of the Microsoft stock data, which offers a wealth of information to unravel the intricacies of the stock market. The dataset comprises key variables that will guide our analysis.\n",
        "\n",
        "The \"Date\" column serves as our timeline, enabling us to observe trends and patterns over time. The \"Open Price\" variable signifies the initial trading price, setting the stage for daily gains or losses. \"High Price\" and \"Low Price\" capture the price range, revealing market volatility and investor sentiment.\n",
        "\n",
        "The \"Closing Price\" column denotes the day's final stock price, encapsulating market sentiment and the cumulative impact of various market forces. The \"Adjusted Closing Price\" considers factors like stock splits and dividends, providing an accurate representation of the stock's performance.\n",
        "\n",
        "The \"Volume\" column reflects the number of shares traded, shedding light on market liquidity and investor interest.\n",
        "\n",
        "Through this dataset, we aim to analyze trends, assess risk, and explore the interplay of market variables, ultimately uncovering valuable insights to make informed decisions.\n",
        "\n"
      ],
      "metadata": {
        "id": "IVbl5Fki2Prn"
      },
      "id": "IVbl5Fki2Prn"
    },
    {
      "cell_type": "code",
      "execution_count": null,
      "id": "874959c3",
      "metadata": {
        "id": "874959c3"
      },
      "outputs": [],
      "source": [
        "import numpy as np\n",
        "import pandas as pd\n",
        "import pandas_datareader as web\n",
        "import math\n",
        "import matplotlib.pyplot as plt\n",
        "from sklearn.preprocessing import StandardScaler\n",
        "import tensorflow as tf\n",
        "from keras.models import Sequential\n",
        "from keras.layers import Dense, LSTM\n",
        "plt.style.use('fivethirtyeight')\n",
        "\n",
        "import warnings\n",
        "\n",
        "warnings.filterwarnings('ignore')"
      ]
    },
    {
      "cell_type": "code",
      "execution_count": null,
      "id": "513d941b",
      "metadata": {
        "id": "513d941b"
      },
      "outputs": [],
      "source": [
        "df = pd.read_csv('MSFT.csv')"
      ]
    },
    {
      "cell_type": "code",
      "execution_count": null,
      "id": "567600ca",
      "metadata": {
        "colab": {
          "base_uri": "https://localhost:8080/",
          "height": 424
        },
        "id": "567600ca",
        "outputId": "ecd7520c-bc5c-47b0-87c0-7ebc982b0fd3"
      },
      "outputs": [
        {
          "output_type": "execute_result",
          "data": {
            "text/plain": [
              "            Date        Open        High         Low       Close   Adj Close  \\\n",
              "0     1986-03-13    0.088542    0.101563    0.088542    0.097222    0.061434   \n",
              "1     1986-03-14    0.097222    0.102431    0.097222    0.100694    0.063628   \n",
              "2     1986-03-17    0.100694    0.103299    0.100694    0.102431    0.064725   \n",
              "3     1986-03-18    0.102431    0.103299    0.098958    0.099826    0.063079   \n",
              "4     1986-03-19    0.099826    0.100694    0.097222    0.098090    0.061982   \n",
              "...          ...         ...         ...         ...         ...         ...   \n",
              "9078  2022-03-18  295.369995  301.000000  292.730011  300.429993  300.429993   \n",
              "9079  2022-03-21  298.890015  300.140015  294.899994  299.160004  299.160004   \n",
              "9080  2022-03-22  299.799988  305.000000  298.769989  304.059998  304.059998   \n",
              "9081  2022-03-23  300.510010  303.230011  297.720001  299.489990  299.489990   \n",
              "9082  2022-03-24  299.140015  304.200012  298.320007  304.100006  304.100006   \n",
              "\n",
              "          Volume  \n",
              "0     1031788800  \n",
              "1      308160000  \n",
              "2      133171200  \n",
              "3       67766400  \n",
              "4       47894400  \n",
              "...          ...  \n",
              "9078    43317000  \n",
              "9079    28351200  \n",
              "9080    27599700  \n",
              "9081    25715400  \n",
              "9082    24446900  \n",
              "\n",
              "[9083 rows x 7 columns]"
            ],
            "text/html": [
              "\n",
              "  <div id=\"df-c6f6ce37-c1b1-4f63-94ad-8e3c763712ee\">\n",
              "    <div class=\"colab-df-container\">\n",
              "      <div>\n",
              "<style scoped>\n",
              "    .dataframe tbody tr th:only-of-type {\n",
              "        vertical-align: middle;\n",
              "    }\n",
              "\n",
              "    .dataframe tbody tr th {\n",
              "        vertical-align: top;\n",
              "    }\n",
              "\n",
              "    .dataframe thead th {\n",
              "        text-align: right;\n",
              "    }\n",
              "</style>\n",
              "<table border=\"1\" class=\"dataframe\">\n",
              "  <thead>\n",
              "    <tr style=\"text-align: right;\">\n",
              "      <th></th>\n",
              "      <th>Date</th>\n",
              "      <th>Open</th>\n",
              "      <th>High</th>\n",
              "      <th>Low</th>\n",
              "      <th>Close</th>\n",
              "      <th>Adj Close</th>\n",
              "      <th>Volume</th>\n",
              "    </tr>\n",
              "  </thead>\n",
              "  <tbody>\n",
              "    <tr>\n",
              "      <th>0</th>\n",
              "      <td>1986-03-13</td>\n",
              "      <td>0.088542</td>\n",
              "      <td>0.101563</td>\n",
              "      <td>0.088542</td>\n",
              "      <td>0.097222</td>\n",
              "      <td>0.061434</td>\n",
              "      <td>1031788800</td>\n",
              "    </tr>\n",
              "    <tr>\n",
              "      <th>1</th>\n",
              "      <td>1986-03-14</td>\n",
              "      <td>0.097222</td>\n",
              "      <td>0.102431</td>\n",
              "      <td>0.097222</td>\n",
              "      <td>0.100694</td>\n",
              "      <td>0.063628</td>\n",
              "      <td>308160000</td>\n",
              "    </tr>\n",
              "    <tr>\n",
              "      <th>2</th>\n",
              "      <td>1986-03-17</td>\n",
              "      <td>0.100694</td>\n",
              "      <td>0.103299</td>\n",
              "      <td>0.100694</td>\n",
              "      <td>0.102431</td>\n",
              "      <td>0.064725</td>\n",
              "      <td>133171200</td>\n",
              "    </tr>\n",
              "    <tr>\n",
              "      <th>3</th>\n",
              "      <td>1986-03-18</td>\n",
              "      <td>0.102431</td>\n",
              "      <td>0.103299</td>\n",
              "      <td>0.098958</td>\n",
              "      <td>0.099826</td>\n",
              "      <td>0.063079</td>\n",
              "      <td>67766400</td>\n",
              "    </tr>\n",
              "    <tr>\n",
              "      <th>4</th>\n",
              "      <td>1986-03-19</td>\n",
              "      <td>0.099826</td>\n",
              "      <td>0.100694</td>\n",
              "      <td>0.097222</td>\n",
              "      <td>0.098090</td>\n",
              "      <td>0.061982</td>\n",
              "      <td>47894400</td>\n",
              "    </tr>\n",
              "    <tr>\n",
              "      <th>...</th>\n",
              "      <td>...</td>\n",
              "      <td>...</td>\n",
              "      <td>...</td>\n",
              "      <td>...</td>\n",
              "      <td>...</td>\n",
              "      <td>...</td>\n",
              "      <td>...</td>\n",
              "    </tr>\n",
              "    <tr>\n",
              "      <th>9078</th>\n",
              "      <td>2022-03-18</td>\n",
              "      <td>295.369995</td>\n",
              "      <td>301.000000</td>\n",
              "      <td>292.730011</td>\n",
              "      <td>300.429993</td>\n",
              "      <td>300.429993</td>\n",
              "      <td>43317000</td>\n",
              "    </tr>\n",
              "    <tr>\n",
              "      <th>9079</th>\n",
              "      <td>2022-03-21</td>\n",
              "      <td>298.890015</td>\n",
              "      <td>300.140015</td>\n",
              "      <td>294.899994</td>\n",
              "      <td>299.160004</td>\n",
              "      <td>299.160004</td>\n",
              "      <td>28351200</td>\n",
              "    </tr>\n",
              "    <tr>\n",
              "      <th>9080</th>\n",
              "      <td>2022-03-22</td>\n",
              "      <td>299.799988</td>\n",
              "      <td>305.000000</td>\n",
              "      <td>298.769989</td>\n",
              "      <td>304.059998</td>\n",
              "      <td>304.059998</td>\n",
              "      <td>27599700</td>\n",
              "    </tr>\n",
              "    <tr>\n",
              "      <th>9081</th>\n",
              "      <td>2022-03-23</td>\n",
              "      <td>300.510010</td>\n",
              "      <td>303.230011</td>\n",
              "      <td>297.720001</td>\n",
              "      <td>299.489990</td>\n",
              "      <td>299.489990</td>\n",
              "      <td>25715400</td>\n",
              "    </tr>\n",
              "    <tr>\n",
              "      <th>9082</th>\n",
              "      <td>2022-03-24</td>\n",
              "      <td>299.140015</td>\n",
              "      <td>304.200012</td>\n",
              "      <td>298.320007</td>\n",
              "      <td>304.100006</td>\n",
              "      <td>304.100006</td>\n",
              "      <td>24446900</td>\n",
              "    </tr>\n",
              "  </tbody>\n",
              "</table>\n",
              "<p>9083 rows × 7 columns</p>\n",
              "</div>\n",
              "      <button class=\"colab-df-convert\" onclick=\"convertToInteractive('df-c6f6ce37-c1b1-4f63-94ad-8e3c763712ee')\"\n",
              "              title=\"Convert this dataframe to an interactive table.\"\n",
              "              style=\"display:none;\">\n",
              "        \n",
              "  <svg xmlns=\"http://www.w3.org/2000/svg\" height=\"24px\"viewBox=\"0 0 24 24\"\n",
              "       width=\"24px\">\n",
              "    <path d=\"M0 0h24v24H0V0z\" fill=\"none\"/>\n",
              "    <path d=\"M18.56 5.44l.94 2.06.94-2.06 2.06-.94-2.06-.94-.94-2.06-.94 2.06-2.06.94zm-11 1L8.5 8.5l.94-2.06 2.06-.94-2.06-.94L8.5 2.5l-.94 2.06-2.06.94zm10 10l.94 2.06.94-2.06 2.06-.94-2.06-.94-.94-2.06-.94 2.06-2.06.94z\"/><path d=\"M17.41 7.96l-1.37-1.37c-.4-.4-.92-.59-1.43-.59-.52 0-1.04.2-1.43.59L10.3 9.45l-7.72 7.72c-.78.78-.78 2.05 0 2.83L4 21.41c.39.39.9.59 1.41.59.51 0 1.02-.2 1.41-.59l7.78-7.78 2.81-2.81c.8-.78.8-2.07 0-2.86zM5.41 20L4 18.59l7.72-7.72 1.47 1.35L5.41 20z\"/>\n",
              "  </svg>\n",
              "      </button>\n",
              "      \n",
              "  <style>\n",
              "    .colab-df-container {\n",
              "      display:flex;\n",
              "      flex-wrap:wrap;\n",
              "      gap: 12px;\n",
              "    }\n",
              "\n",
              "    .colab-df-convert {\n",
              "      background-color: #E8F0FE;\n",
              "      border: none;\n",
              "      border-radius: 50%;\n",
              "      cursor: pointer;\n",
              "      display: none;\n",
              "      fill: #1967D2;\n",
              "      height: 32px;\n",
              "      padding: 0 0 0 0;\n",
              "      width: 32px;\n",
              "    }\n",
              "\n",
              "    .colab-df-convert:hover {\n",
              "      background-color: #E2EBFA;\n",
              "      box-shadow: 0px 1px 2px rgba(60, 64, 67, 0.3), 0px 1px 3px 1px rgba(60, 64, 67, 0.15);\n",
              "      fill: #174EA6;\n",
              "    }\n",
              "\n",
              "    [theme=dark] .colab-df-convert {\n",
              "      background-color: #3B4455;\n",
              "      fill: #D2E3FC;\n",
              "    }\n",
              "\n",
              "    [theme=dark] .colab-df-convert:hover {\n",
              "      background-color: #434B5C;\n",
              "      box-shadow: 0px 1px 3px 1px rgba(0, 0, 0, 0.15);\n",
              "      filter: drop-shadow(0px 1px 2px rgba(0, 0, 0, 0.3));\n",
              "      fill: #FFFFFF;\n",
              "    }\n",
              "  </style>\n",
              "\n",
              "      <script>\n",
              "        const buttonEl =\n",
              "          document.querySelector('#df-c6f6ce37-c1b1-4f63-94ad-8e3c763712ee button.colab-df-convert');\n",
              "        buttonEl.style.display =\n",
              "          google.colab.kernel.accessAllowed ? 'block' : 'none';\n",
              "\n",
              "        async function convertToInteractive(key) {\n",
              "          const element = document.querySelector('#df-c6f6ce37-c1b1-4f63-94ad-8e3c763712ee');\n",
              "          const dataTable =\n",
              "            await google.colab.kernel.invokeFunction('convertToInteractive',\n",
              "                                                     [key], {});\n",
              "          if (!dataTable) return;\n",
              "\n",
              "          const docLinkHtml = 'Like what you see? Visit the ' +\n",
              "            '<a target=\"_blank\" href=https://colab.research.google.com/notebooks/data_table.ipynb>data table notebook</a>'\n",
              "            + ' to learn more about interactive tables.';\n",
              "          element.innerHTML = '';\n",
              "          dataTable['output_type'] = 'display_data';\n",
              "          await google.colab.output.renderOutput(dataTable, element);\n",
              "          const docLink = document.createElement('div');\n",
              "          docLink.innerHTML = docLinkHtml;\n",
              "          element.appendChild(docLink);\n",
              "        }\n",
              "      </script>\n",
              "    </div>\n",
              "  </div>\n",
              "  "
            ]
          },
          "metadata": {},
          "execution_count": 3
        }
      ],
      "source": [
        "df"
      ]
    },
    {
      "cell_type": "code",
      "execution_count": null,
      "id": "6f2c8c79",
      "metadata": {
        "colab": {
          "base_uri": "https://localhost:8080/"
        },
        "id": "6f2c8c79",
        "outputId": "7860690d-9481-44b1-f7d8-1aba16ca657a"
      },
      "outputs": [
        {
          "output_type": "execute_result",
          "data": {
            "text/plain": [
              "(9083, 7)"
            ]
          },
          "metadata": {},
          "execution_count": 4
        }
      ],
      "source": [
        "df.shape"
      ]
    },
    {
      "cell_type": "markdown",
      "source": [
        "#### Basic overview about the stock price performance."
      ],
      "metadata": {
        "id": "3yHVZ-rQHdqP"
      },
      "id": "3yHVZ-rQHdqP"
    },
    {
      "cell_type": "code",
      "execution_count": null,
      "id": "924c32bb",
      "metadata": {
        "colab": {
          "base_uri": "https://localhost:8080/",
          "height": 494
        },
        "id": "924c32bb",
        "outputId": "46eae482-c6cd-4591-d485-7bfd400548a3"
      },
      "outputs": [
        {
          "output_type": "display_data",
          "data": {
            "text/plain": [
              "<Figure size 1600x800 with 1 Axes>"
            ],
            "image/png": "[encoded data removed]"
          },
          "metadata": {}
        }
      ],
      "source": [
        "#visualize the closing prices to get a general idea about the stock price.\n",
        "plt.figure(figsize=(16,8))\n",
        "plt.title('closing price of Stock')\n",
        "plt.plot(df[\"Close\"])\n",
        "plt.xlabel('Data')\n",
        "plt.ylabel('Closing price')\n",
        "plt.show()"
      ]
    },
    {
      "cell_type": "markdown",
      "source": [
        "By examining this chart, we can observe the remarkable growth of Microsoft stock, starting from under a dollar and reaching a trading price of approximately $300."
      ],
      "metadata": {
        "id": "g42UQFx-G0IJ"
      },
      "id": "g42UQFx-G0IJ"
    },
    {
      "cell_type": "code",
      "execution_count": null,
      "id": "1d6ac5a0",
      "metadata": {
        "colab": {
          "base_uri": "https://localhost:8080/"
        },
        "id": "1d6ac5a0",
        "outputId": "2cc7d25d-b969-4257-8fc6-1c632086bf61"
      },
      "outputs": [
        {
          "output_type": "execute_result",
          "data": {
            "text/plain": [
              "7267"
            ]
          },
          "metadata": {},
          "execution_count": 6
        }
      ],
      "source": [
        "#create new database with only required coloumns\n",
        "data=df.filter(['Close'])\n",
        "#convert the new dataframe to numpy array\n",
        "dataset=data.values\n",
        "#get the number of rows to train 80 percent\n",
        "training_data_len=math.ceil(len(dataset)*0.8)\n",
        "# get the number of rows for the 80% training data.\n",
        "training_data_len"
      ]
    },
    {
      "cell_type": "markdown",
      "source": [
        "When working with neural networks, it is crucial to scale the data for optimal performance. Failing to scale the data can lead to subpar results. To address this, we will apply a standard scaler to the training data. First, we create an instance of the standard scaler and use it to scale the data. By employing the fit and transform functions on the training data, we obtain the scaled data. This scaling process ensures that the mean and standard deviation of the data are normalized to the range of 0 to 1, which aids in the neural network's effectiveness."
      ],
      "metadata": {
        "id": "k-6PgOFHIQ05"
      },
      "id": "k-6PgOFHIQ05"
    },
    {
      "cell_type": "code",
      "execution_count": null,
      "id": "1b41e26b",
      "metadata": {
        "colab": {
          "base_uri": "https://localhost:8080/"
        },
        "id": "1b41e26b",
        "outputId": "276314e1-35ed-4a77-9b52-8a124fe5ac03"
      },
      "outputs": [
        {
          "output_type": "stream",
          "name": "stdout",
          "text": [
            "MEAN of processed data:  1.0013153162753806e-16\n",
            "Standard deviation of processed data:  1.0\n"
          ]
        }
      ],
      "source": [
        "#scale the data\n",
        "scaler=StandardScaler()\n",
        "scaled_data=scaler.fit_transform(dataset)\n",
        "print(\"MEAN of processed data: \",scaled_data.mean())\n",
        "print(\"Standard deviation of processed data: \",scaled_data.std())"
      ]
    },
    {
      "cell_type": "code",
      "execution_count": null,
      "id": "bf05b6f6",
      "metadata": {
        "id": "bf05b6f6"
      },
      "outputs": [],
      "source": [
        "#create a new training data from the scaled training dataset\n",
        "train_data = scaled_data[0:training_data_len, :]\n",
        "#split the data to x_train and y_train\n",
        "x_train=[]\n",
        "y_train=[]\n",
        "for i in range(60,len(train_data)):\n",
        "  x_train.append(train_data[i-60:i])\n",
        "  y_train.append(train_data[i])"
      ]
    },
    {
      "cell_type": "code",
      "execution_count": null,
      "id": "5140df57",
      "metadata": {
        "colab": {
          "base_uri": "https://localhost:8080/"
        },
        "id": "5140df57",
        "outputId": "9ad745c7-c4d3-42f4-ce41-4c500ef71c59"
      },
      "outputs": [
        {
          "output_type": "execute_result",
          "data": {
            "text/plain": [
              "(7207, 60, 1)"
            ]
          },
          "metadata": {},
          "execution_count": 9
        }
      ],
      "source": [
        "#convert x_train and y_train into numpy arrays\n",
        "x_train,y_train=np.array(x_train),np.array(y_train)\n",
        "x_train.shape"
      ]
    },
    {
      "cell_type": "code",
      "execution_count": null,
      "id": "7ac87e03",
      "metadata": {
        "colab": {
          "base_uri": "https://localhost:8080/"
        },
        "id": "7ac87e03",
        "outputId": "07551e66-217d-4ba6-f7d0-17c1c03624e6"
      },
      "outputs": [
        {
          "output_type": "stream",
          "name": "stdout",
          "text": [
            "x_train shape before reshaping (7207, 60, 1)\n",
            "x_train shape after reshaping (7207, 60, 1)\n"
          ]
        }
      ],
      "source": [
        "#reshape the data\n",
        "print(\"x_train shape before reshaping\",x_train.shape)\n",
        "x_train = np.reshape(x_train,(x_train.shape[0],x_train.shape[1],1)) #np.reshape(x_train,(x_train.shape[0],x_train.shape[1],1))\n",
        "print(\"x_train shape after reshaping\",x_train.shape)"
      ]
    },
    {
      "cell_type": "markdown",
      "source": [
        "In our project, we will be utilizing the sequential model for our neural network. Let's start by adding the first LSTM layer, which will consist of 200 neurons. The input shape for this layer will correspond to the number of input neurons in X train, ensuring compatibility.\n",
        "\n",
        "Following that, we will add another LSTM layer, also with 200 neurons, resulting in a total of two LSTM layers. This layer configuration will help capture complex patterns and dependencies in the data.\n",
        "\n",
        "Moving on, we will incorporate two dense layers into our model. The first dense layer will comprise 100 neurons, allowing for further feature extraction and representation. The second dense layer will consist of 50 neurons, enhancing the model's capacity to learn intricate relationships.\n",
        "\n",
        "Lastly, we will add a dense layer of 1, serving as the output layer. This layer will produce a single output, enabling us to make predictions or classifications based on the network's learned representations.\n",
        "\n",
        "By structuring our neural network in this manner, we aim to leverage the power of LSTM layers and dense layers to effectively capture and model the underlying patterns within our data."
      ],
      "metadata": {
        "id": "UvtSxPzhKKnv"
      },
      "id": "UvtSxPzhKKnv"
    },
    {
      "cell_type": "code",
      "execution_count": null,
      "id": "41b6d9ab",
      "metadata": {
        "id": "41b6d9ab"
      },
      "outputs": [],
      "source": [
        "#build LSTM model\n",
        "model= Sequential()\n",
        "model.add(LSTM(200,return_sequences=True,input_shape=(x_train.shape[1], 1)))\n",
        "model.add(LSTM(200,return_sequences=False))\n",
        "model.add(Dense(100))\n",
        "model.add(Dense(50))\n",
        "model.add(Dense(1))"
      ]
    },
    {
      "cell_type": "markdown",
      "source": [
        "To proceed, we will compile the model and optimize it using the Adam optimizer, which is well-suited for a variety of deep learning tasks. Given that we are dealing with a regression problem, we will employ the mean squared error (MSE) as our loss metric. This choice aligns with our goal of minimizing the average squared difference between the predicted and actual values.\n",
        "\n",
        "By utilizing the Adam optimizer and MSE loss metric, we can effectively train our model to make accurate predictions for our regression problem. This combination of optimization and loss function selection ensures that our model is optimized to minimize the error between predicted and actual values, ultimately enhancing its performance and ability to tackle regression tasks."
      ],
      "metadata": {
        "id": "95ShR8q7L0lW"
      },
      "id": "95ShR8q7L0lW"
    },
    {
      "cell_type": "code",
      "execution_count": null,
      "id": "127b57b5",
      "metadata": {
        "id": "127b57b5"
      },
      "outputs": [],
      "source": [
        "#compile the model\n",
        "model.compile(optimizer='adam',loss='mean_squared_error')"
      ]
    },
    {
      "cell_type": "code",
      "execution_count": null,
      "id": "95f53d8f",
      "metadata": {
        "colab": {
          "base_uri": "https://localhost:8080/"
        },
        "id": "95f53d8f",
        "outputId": "c0da903e-ccd1-4836-cd2e-2b169239a577"
      },
      "outputs": [
        {
          "output_type": "stream",
          "name": "stdout",
          "text": [
            "Model: \"sequential\"\n",
            "_________________________________________________________________\n",
            " Layer (type)                Output Shape              Param #   \n",
            "=================================================================\n",
            " lstm (LSTM)                 (None, 60, 200)           161600    \n",
            "                                                                 \n",
            " lstm_1 (LSTM)               (None, 200)               320800    \n",
            "                                                                 \n",
            " dense (Dense)               (None, 100)               20100     \n",
            "                                                                 \n",
            " dense_1 (Dense)             (None, 50)                5050      \n",
            "                                                                 \n",
            " dense_2 (Dense)             (None, 1)                 51        \n",
            "                                                                 \n",
            "=================================================================\n",
            "Total params: 507,601\n",
            "Trainable params: 507,601\n",
            "Non-trainable params: 0\n",
            "_________________________________________________________________\n"
          ]
        }
      ],
      "source": [
        "model.summary()"
      ]
    },
    {
      "cell_type": "markdown",
      "source": [
        "The model summary reveals that there are 507,601 trainable parameters, indicating the adjustable elements for learning. However, there are no non-trainable parameters present in the model, meaning all parameters can be updated during the training process."
      ],
      "metadata": {
        "id": "nEE7fzvgMeLs"
      },
      "id": "nEE7fzvgMeLs"
    },
    {
      "cell_type": "code",
      "execution_count": null,
      "id": "51bc174c",
      "metadata": {
        "colab": {
          "base_uri": "https://localhost:8080/"
        },
        "id": "51bc174c",
        "outputId": "fe310d12-82e4-4ed1-8f3e-2ce4c193870c"
      },
      "outputs": [
        {
          "output_type": "stream",
          "name": "stdout",
          "text": [
            "Epoch 1/5\n",
            "226/226 [==============================] - 100s 386ms/step - loss: 0.0025\n",
            "Epoch 2/5\n",
            "226/226 [==============================] - 81s 360ms/step - loss: 2.3425e-04\n",
            "Epoch 3/5\n",
            "226/226 [==============================] - 79s 346ms/step - loss: 2.0978e-04\n",
            "Epoch 4/5\n",
            "226/226 [==============================] - 79s 352ms/step - loss: 1.9216e-04\n",
            "Epoch 5/5\n",
            "226/226 [==============================] - 78s 345ms/step - loss: 1.8265e-04\n"
          ]
        }
      ],
      "source": [
        "#train the model. this model with five epochs. You can increase the number of epochs for better performance of the model.\n",
        "history = model.fit(x_train,y_train,epochs=5)"
      ]
    },
    {
      "cell_type": "code",
      "execution_count": null,
      "id": "c4c9c96a",
      "metadata": {
        "colab": {
          "base_uri": "https://localhost:8080/",
          "height": 466
        },
        "id": "c4c9c96a",
        "outputId": "4a502bad-a8d6-4350-965b-960dd2cd7504"
      },
      "outputs": [
        {
          "output_type": "execute_result",
          "data": {
            "text/plain": [
              "[<matplotlib.lines.Line2D at 0x7fcb7ab8fd60>]"
            ]
          },
          "metadata": {},
          "execution_count": 15
        },
        {
          "output_type": "display_data",
          "data": {
            "text/plain": [
              "<Figure size 640x480 with 1 Axes>"
            ],
            "image/png": "[encoded data removed]"
          },
          "metadata": {}
        }
      ],
      "source": [
        "#plot the history of loss.\n",
        "plt.plot(history.history['loss'])"
      ]
    },
    {
      "cell_type": "markdown",
      "source": [
        "The loss on the chart consistently decreased with each epoch, indicating a steady improvement in the model's performance over time."
      ],
      "metadata": {
        "id": "7pxQlvp5PFqS"
      },
      "id": "7pxQlvp5PFqS"
    },
    {
      "cell_type": "code",
      "execution_count": null,
      "id": "d13d9285",
      "metadata": {
        "id": "d13d9285"
      },
      "outputs": [],
      "source": [
        "#create the testing dataset\n",
        "#createt new array. test data is equal to scale data of training data length -60 including all columns.\n",
        "test_data=scaled_data[training_data_len-60:, :]\n",
        "#create the dataset x_test and y_test\n",
        "x_test=[]\n",
        "y_test=dataset[training_data_len: , :]\n",
        "for i in range(60,len(test_data)):\n",
        "  x_test.append(test_data[i-60:i, 0])"
      ]
    },
    {
      "cell_type": "code",
      "execution_count": null,
      "id": "c9b38d50",
      "metadata": {
        "id": "c9b38d50"
      },
      "outputs": [],
      "source": [
        "#convert the data to numpy\n",
        "x_test=np.array(x_test)"
      ]
    },
    {
      "cell_type": "code",
      "execution_count": null,
      "id": "1913a7b3",
      "metadata": {
        "id": "1913a7b3"
      },
      "outputs": [],
      "source": [
        "#reshape the data\n",
        "x_test=np.reshape(x_test,(x_test.shape[0],x_test.shape[1],1))"
      ]
    },
    {
      "cell_type": "code",
      "execution_count": null,
      "id": "9b7898bb",
      "metadata": {
        "colab": {
          "base_uri": "https://localhost:8080/"
        },
        "id": "9b7898bb",
        "outputId": "53333879-6776-4dd4-d639-a4c6b3bfc2c5"
      },
      "outputs": [
        {
          "output_type": "stream",
          "name": "stdout",
          "text": [
            "57/57 [==============================] - 7s 110ms/step\n",
            "[[ 45.93832 ]\n",
            " [ 45.990284]\n",
            " [ 46.143597]\n",
            " ...\n",
            " [249.89874 ]\n",
            " [253.1303  ]\n",
            " [255.29483 ]]\n"
          ]
        }
      ],
      "source": [
        "#get the model predicted value. check the predictions on X test\n",
        "predictions =model.predict(x_test)\n",
        "predictions=scaler.inverse_transform(predictions)\n",
        "print(predictions)"
      ]
    },
    {
      "cell_type": "markdown",
      "source": [
        "These predictions represent the Microsoft stock prices generated by the LSTM model using the X test data."
      ],
      "metadata": {
        "id": "RP6FNRv2QTnM"
      },
      "id": "RP6FNRv2QTnM"
    },
    {
      "cell_type": "code",
      "source": [
        "predicted_price = pd.DataFrame(predictions, columns = ['price'] )\n",
        "predicted_price.head()"
      ],
      "metadata": {
        "colab": {
          "base_uri": "https://localhost:8080/",
          "height": 206
        },
        "id": "-om5XIL6R40s",
        "outputId": "fbe815a0-9cb5-43c8-a8a2-e3da670126be"
      },
      "id": "-om5XIL6R40s",
      "execution_count": null,
      "outputs": [
        {
          "output_type": "execute_result",
          "data": {
            "text/plain": [
              "       price\n",
              "0  45.938320\n",
              "1  45.990284\n",
              "2  46.143597\n",
              "3  46.231255\n",
              "4  46.233696"
            ],
            "text/html": [
              "\n",
              "  <div id=\"df-d76e045c-0289-442f-918a-eac349aa5d63\">\n",
              "    <div class=\"colab-df-container\">\n",
              "      <div>\n",
              "<style scoped>\n",
              "    .dataframe tbody tr th:only-of-type {\n",
              "        vertical-align: middle;\n",
              "    }\n",
              "\n",
              "    .dataframe tbody tr th {\n",
              "        vertical-align: top;\n",
              "    }\n",
              "\n",
              "    .dataframe thead th {\n",
              "        text-align: right;\n",
              "    }\n",
              "</style>\n",
              "<table border=\"1\" class=\"dataframe\">\n",
              "  <thead>\n",
              "    <tr style=\"text-align: right;\">\n",
              "      <th></th>\n",
              "      <th>price</th>\n",
              "    </tr>\n",
              "  </thead>\n",
              "  <tbody>\n",
              "    <tr>\n",
              "      <th>0</th>\n",
              "      <td>45.938320</td>\n",
              "    </tr>\n",
              "    <tr>\n",
              "      <th>1</th>\n",
              "      <td>45.990284</td>\n",
              "    </tr>\n",
              "    <tr>\n",
              "      <th>2</th>\n",
              "      <td>46.143597</td>\n",
              "    </tr>\n",
              "    <tr>\n",
              "      <th>3</th>\n",
              "      <td>46.231255</td>\n",
              "    </tr>\n",
              "    <tr>\n",
              "      <th>4</th>\n",
              "      <td>46.233696</td>\n",
              "    </tr>\n",
              "  </tbody>\n",
              "</table>\n",
              "</div>\n",
              "      <button class=\"colab-df-convert\" onclick=\"convertToInteractive('df-d76e045c-0289-442f-918a-eac349aa5d63')\"\n",
              "              title=\"Convert this dataframe to an interactive table.\"\n",
              "              style=\"display:none;\">\n",
              "        \n",
              "  <svg xmlns=\"http://www.w3.org/2000/svg\" height=\"24px\"viewBox=\"0 0 24 24\"\n",
              "       width=\"24px\">\n",
              "    <path d=\"M0 0h24v24H0V0z\" fill=\"none\"/>\n",
              "    <path d=\"M18.56 5.44l.94 2.06.94-2.06 2.06-.94-2.06-.94-.94-2.06-.94 2.06-2.06.94zm-11 1L8.5 8.5l.94-2.06 2.06-.94-2.06-.94L8.5 2.5l-.94 2.06-2.06.94zm10 10l.94 2.06.94-2.06 2.06-.94-2.06-.94-.94-2.06-.94 2.06-2.06.94z\"/><path d=\"M17.41 7.96l-1.37-1.37c-.4-.4-.92-.59-1.43-.59-.52 0-1.04.2-1.43.59L10.3 9.45l-7.72 7.72c-.78.78-.78 2.05 0 2.83L4 21.41c.39.39.9.59 1.41.59.51 0 1.02-.2 1.41-.59l7.78-7.78 2.81-2.81c.8-.78.8-2.07 0-2.86zM5.41 20L4 18.59l7.72-7.72 1.47 1.35L5.41 20z\"/>\n",
              "  </svg>\n",
              "      </button>\n",
              "      \n",
              "  <style>\n",
              "    .colab-df-container {\n",
              "      display:flex;\n",
              "      flex-wrap:wrap;\n",
              "      gap: 12px;\n",
              "    }\n",
              "\n",
              "    .colab-df-convert {\n",
              "      background-color: #E8F0FE;\n",
              "      border: none;\n",
              "      border-radius: 50%;\n",
              "      cursor: pointer;\n",
              "      display: none;\n",
              "      fill: #1967D2;\n",
              "      height: 32px;\n",
              "      padding: 0 0 0 0;\n",
              "      width: 32px;\n",
              "    }\n",
              "\n",
              "    .colab-df-convert:hover {\n",
              "      background-color: #E2EBFA;\n",
              "      box-shadow: 0px 1px 2px rgba(60, 64, 67, 0.3), 0px 1px 3px 1px rgba(60, 64, 67, 0.15);\n",
              "      fill: #174EA6;\n",
              "    }\n",
              "\n",
              "    [theme=dark] .colab-df-convert {\n",
              "      background-color: #3B4455;\n",
              "      fill: #D2E3FC;\n",
              "    }\n",
              "\n",
              "    [theme=dark] .colab-df-convert:hover {\n",
              "      background-color: #434B5C;\n",
              "      box-shadow: 0px 1px 3px 1px rgba(0, 0, 0, 0.15);\n",
              "      filter: drop-shadow(0px 1px 2px rgba(0, 0, 0, 0.3));\n",
              "      fill: #FFFFFF;\n",
              "    }\n",
              "  </style>\n",
              "\n",
              "      <script>\n",
              "        const buttonEl =\n",
              "          document.querySelector('#df-d76e045c-0289-442f-918a-eac349aa5d63 button.colab-df-convert');\n",
              "        buttonEl.style.display =\n",
              "          google.colab.kernel.accessAllowed ? 'block' : 'none';\n",
              "\n",
              "        async function convertToInteractive(key) {\n",
              "          const element = document.querySelector('#df-d76e045c-0289-442f-918a-eac349aa5d63');\n",
              "          const dataTable =\n",
              "            await google.colab.kernel.invokeFunction('convertToInteractive',\n",
              "                                                     [key], {});\n",
              "          if (!dataTable) return;\n",
              "\n",
              "          const docLinkHtml = 'Like what you see? Visit the ' +\n",
              "            '<a target=\"_blank\" href=https://colab.research.google.com/notebooks/data_table.ipynb>data table notebook</a>'\n",
              "            + ' to learn more about interactive tables.';\n",
              "          element.innerHTML = '';\n",
              "          dataTable['output_type'] = 'display_data';\n",
              "          await google.colab.output.renderOutput(dataTable, element);\n",
              "          const docLink = document.createElement('div');\n",
              "          docLink.innerHTML = docLinkHtml;\n",
              "          element.appendChild(docLink);\n",
              "        }\n",
              "      </script>\n",
              "    </div>\n",
              "  </div>\n",
              "  "
            ]
          },
          "metadata": {},
          "execution_count": 34
        }
      ]
    },
    {
      "cell_type": "code",
      "execution_count": null,
      "id": "df651323",
      "metadata": {
        "colab": {
          "base_uri": "https://localhost:8080/",
          "height": 457
        },
        "id": "df651323",
        "outputId": "2d53304a-a87a-4aef-f695-81179a67add9"
      },
      "outputs": [
        {
          "output_type": "display_data",
          "data": {
            "text/plain": [
              "<Figure size 1000x500 with 1 Axes>"
            ],
            "image/png": "[encoded data removed]"
          },
          "metadata": {}
        }
      ],
      "source": [
        "#Plot the predicted price of apple stock\n",
        "predicted_price.plot(figsize=(10,5))\n",
        "plt.legend(['predicted_price'])\n",
        "plt.ylabel(\"Microsoft Price\")\n",
        "plt.show()"
      ]
    },
    {
      "cell_type": "markdown",
      "source": [
        "Analyzing the chart, we observe that the predicted price of Microsoft stock initiated at $45 and is projected to gradually ascend, surpassing 250 at its peak before experiencing a decline. This prediction suggests a positive trend in the stock's value over the given time period. It indicates potential growth opportunities for investors, reaching a substantial price level before a subsequent downturn. The chart provides a visual representation of the predicted price trajectory, aiding in decision-making and assessing investment strategies related to Microsoft stock."
      ],
      "metadata": {
        "id": "D_YQUjx9cIwe"
      },
      "id": "D_YQUjx9cIwe"
    },
    {
      "cell_type": "code",
      "source": [
        "x_test.shape"
      ],
      "metadata": {
        "colab": {
          "base_uri": "https://localhost:8080/"
        },
        "id": "dx7XrfpEsjft",
        "outputId": "d58da3aa-01ae-41fa-aaa8-eacacf3c938f"
      },
      "id": "dx7XrfpEsjft",
      "execution_count": null,
      "outputs": [
        {
          "output_type": "execute_result",
          "data": {
            "text/plain": [
              "(1816, 60, 1)"
            ]
          },
          "metadata": {},
          "execution_count": 37
        }
      ]
    }
  ],
  "metadata": {
    "kernelspec": {
      "display_name": "Python 3",
      "language": "python",
      "name": "python3"
    },
    "language_info": {
      "codemirror_mode": {
        "name": "ipython",
        "version": 3
      },
      "file_extension": ".py",
      "mimetype": "text/x-python",
      "name": "python",
      "nbconvert_exporter": "python",
      "pygments_lexer": "ipython3",
      "version": "3.9.1"
    },
    "colab": {
      "provenance": [],
      "include_colab_link": true
    }
  },
  "nbformat": 4,
  "nbformat_minor": 5
}